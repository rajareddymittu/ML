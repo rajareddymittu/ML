{
 "cells": [
  {
   "cell_type": "code",
   "execution_count": 3,
   "id": "cb3d30c6",
   "metadata": {},
   "outputs": [
    {
     "name": "stdout",
     "output_type": "stream",
     "text": [
      "iteration: 1\n",
      "c1=2, c2=11\n",
      "s1=[2, 3, 4], s2=[10, 11, 12, 20, 25, 30]\n",
      "iteration: 2\n",
      "c1=3.0, c2=18.0\n",
      "s1=[2, 3, 4, 10], s2=[11, 12, 20, 25, 30]\n",
      "iteration: 3\n",
      "c1=4.75, c2=19.6\n",
      "s1=[2, 3, 4, 10, 11, 12], s2=[20, 25, 30]\n",
      "iteration: 4\n",
      "c1=7.0, c2=25.0\n",
      "s1=[2, 3, 4, 10, 11, 12], s2=[20, 25, 30]\n",
      "clustering completed\n"
     ]
    }
   ],
   "source": [
    "import numpy as np\n",
    "# initialization of variables\n",
    "x=np.array([2,3,4,10,11,12,20,25,30])\n",
    "k=2\n",
    "s1=[]\n",
    "s2=[]\n",
    "np.random.seed(200)\n",
    "\n",
    "def c_dist(x,c1,c2):\n",
    "    dist1=np.absolute(x-c1)\n",
    "    #dist1=np.linalg.norm(x-c1)\n",
    "    dist2=np.absolute(x-c2)\n",
    "    #dist2=np.linalg.norm(x-c2)\n",
    "    return dist1,dist2\n",
    "def my_cluster(x,d1,d2):\n",
    "    for i in range(len(x)):\n",
    "        if d1[i]<= d2[i]:\n",
    "            s1.append(x[i])\n",
    "        else:\n",
    "            s2.append(x[i])\n",
    "    print(\"s1={}, s2={}\".format(s1,s2))\n",
    "    return s1,s2\n",
    "c1=x[np.random.randint(0,len(x))] #initial value of centroid1\n",
    "c2=x[np.random.randint(0,len(x))] #initial value of centroid2\n",
    "c1_old=c2_old=0\n",
    "j=1\n",
    "while(~(c1_old==c1)):\n",
    "    print(\"iteration:\",j)\n",
    "    d1,d2=c_dist(x,c1,c2)\n",
    "    print(\"c1={}, c2={}\".format(c1,c2))\n",
    "    s1,s2=my_cluster(x,d1,d2)\n",
    "    c1_old=c1\n",
    "    c2_old=c2\n",
    "    c1=np.mean(s1)\n",
    "    c2=np.mean(s2)\n",
    "    s1.clear()\n",
    "    s2.clear()\n",
    "    j=j+1\n",
    "else:\n",
    "    print(\"clustering completed\")\n"
   ]
  }
 ],
 "metadata": {
  "kernelspec": {
   "display_name": "Python 3",
   "language": "python",
   "name": "python3"
  },
  "language_info": {
   "codemirror_mode": {
    "name": "ipython",
    "version": 3
   },
   "file_extension": ".py",
   "mimetype": "text/x-python",
   "name": "python",
   "nbconvert_exporter": "python",
   "pygments_lexer": "ipython3",
   "version": "3.8.8"
  }
 },
 "nbformat": 4,
 "nbformat_minor": 5
}
