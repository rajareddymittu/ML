{
 "cells": [
  {
   "cell_type": "code",
   "execution_count": 5,
   "id": "f344c45f",
   "metadata": {},
   "outputs": [
    {
     "name": "stdout",
     "output_type": "stream",
     "text": [
      "[[169.    58.  ]\n",
      " [183.5   72.25]]\n"
     ]
    },
    {
     "data": {
      "image/png": "[encoded data removed]",
      "text/plain": [
       "<Figure size 432x288 with 1 Axes>"
      ]
     },
     "metadata": {
      "needs_background": "light"
     },
     "output_type": "display_data"
    }
   ],
   "source": [
    "import numpy as np\n",
    "import matplotlib.pyplot as plt\n",
    "from sklearn.cluster import KMeans\n",
    "#data for n_clusters=3\n",
    "#x=np.array([12, 20, 28, 18, 29, 33, 24, 45, 45, 52, 51, 52, 55, 53, 55, 61, 64, 69, 72])\n",
    "#y=np.array([39, 36, 30, 52, 54, 46, 55, 59, 63, 70, 66, 63, 58, 23, 14, 8, 19, 7, 24])\n",
    "x=np.array([185,170,168,179,182,188])\n",
    "y=np.array([72,56,60,68,72,77])\n",
    "df = np.array(list(zip(x, y)))\n",
    "plt.scatter(x,y)\n",
    "kmeans=KMeans(n_clusters=2)\n",
    "kmeans.fit(df)\n",
    "c=kmeans.predict(df)\n",
    "centroids=kmeans.cluster_centers_\n",
    "print(centroids)\n",
    "plt.scatter(centroids[:,0],centroids[:,1],c='r')\n",
    "plt.show()\n"
   ]
  }
 ],
 "metadata": {
  "kernelspec": {
   "display_name": "Python 3",
   "language": "python",
   "name": "python3"
  },
  "language_info": {
   "codemirror_mode": {
    "name": "ipython",
    "version": 3
   },
   "file_extension": ".py",
   "mimetype": "text/x-python",
   "name": "python",
   "nbconvert_exporter": "python",
   "pygments_lexer": "ipython3",
   "version": "3.8.8"
  }
 },
 "nbformat": 4,
 "nbformat_minor": 5
}
